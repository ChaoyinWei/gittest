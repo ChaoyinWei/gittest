{
 "cells": [
  {
   "cell_type": "code",
   "execution_count": 1,
   "metadata": {},
   "outputs": [],
   "source": [
    "import numpy as np\n",
    "import pandas as pd"
   ]
  },
  {
   "cell_type": "code",
   "execution_count": 5,
   "metadata": {},
   "outputs": [],
   "source": [
    "test = {'a':1, 'b':2, 'next':3}\n",
    "a = 0"
   ]
  },
  {
   "cell_type": "code",
   "execution_count": 9,
   "metadata": {},
   "outputs": [],
   "source": [
    "a2 = test.pop('a',a)"
   ]
  },
  {
   "cell_type": "code",
   "execution_count": 10,
   "metadata": {},
   "outputs": [
    {
     "data": {
      "text/plain": [
       "{'b': 2, 'next': 3}"
      ]
     },
     "execution_count": 10,
     "metadata": {},
     "output_type": "execute_result"
    }
   ],
   "source": [
    "test"
   ]
  },
  {
   "cell_type": "code",
   "execution_count": 12,
   "metadata": {},
   "outputs": [
    {
     "data": {
      "text/plain": [
       "1"
      ]
     },
     "execution_count": 12,
     "metadata": {},
     "output_type": "execute_result"
    }
   ],
   "source": [
    "a2"
   ]
  },
  {
   "cell_type": "code",
   "execution_count": 13,
   "metadata": {},
   "outputs": [],
   "source": [
    "c=test.pop(\"next2\",99)"
   ]
  },
  {
   "cell_type": "code",
   "execution_count": 14,
   "metadata": {},
   "outputs": [
    {
     "data": {
      "text/plain": [
       "99"
      ]
     },
     "execution_count": 14,
     "metadata": {},
     "output_type": "execute_result"
    }
   ],
   "source": [
    "c"
   ]
  },
  {
   "cell_type": "code",
   "execution_count": 16,
   "metadata": {},
   "outputs": [
    {
     "ename": "AssertionError",
     "evalue": "check a",
     "output_type": "error",
     "traceback": [
      "\u001b[1;31m---------------------------------------------------------------------------\u001b[0m",
      "\u001b[1;31mAssertionError\u001b[0m                            Traceback (most recent call last)",
      "\u001b[1;32m<ipython-input-16-df7f66f889c9>\u001b[0m in \u001b[0;36m<module>\u001b[1;34m\u001b[0m\n\u001b[1;32m----> 1\u001b[1;33m \u001b[1;32massert\u001b[0m \u001b[0mc\u001b[0m\u001b[1;33m==\u001b[0m\u001b[1;36m90\u001b[0m\u001b[1;33m,\u001b[0m\u001b[1;33m(\u001b[0m\u001b[1;34m\"check a\"\u001b[0m\u001b[1;33m)\u001b[0m\u001b[1;33m\u001b[0m\u001b[1;33m\u001b[0m\u001b[0m\n\u001b[0m",
      "\u001b[1;31mAssertionError\u001b[0m: check a"
     ]
    }
   ],
   "source": [
    "assert c==90,(\"check a\")"
   ]
  },
  {
   "cell_type": "code",
   "execution_count": 17,
   "metadata": {},
   "outputs": [],
   "source": [
    "def f():\n",
    "    try:\n",
    "        raise ValueError()\n",
    "        print(\"t1\")\n",
    "    except:\n",
    "        print(\"t2\")\n",
    "        return 1\n",
    "    finally:\n",
    "        print(\"t3\")"
   ]
  },
  {
   "cell_type": "code",
   "execution_count": 18,
   "metadata": {},
   "outputs": [
    {
     "name": "stdout",
     "output_type": "stream",
     "text": [
      "t2\n",
      "t3\n"
     ]
    },
    {
     "data": {
      "text/plain": [
       "1"
      ]
     },
     "execution_count": 18,
     "metadata": {},
     "output_type": "execute_result"
    }
   ],
   "source": [
    "f()"
   ]
  },
  {
   "cell_type": "code",
   "execution_count": 20,
   "metadata": {},
   "outputs": [],
   "source": [
    "# coding=utf-8\n",
    "import os\n",
    "import sys\n",
    "import logbook\n",
    "from logbook import Logger,StreamHandler,FileHandler,TimedRotatingFileHandler\n",
    "from logbook.more import ColorizedStderrHandler\n",
    "\n",
    "def log_type(record,handler):\n",
    "    log = \"[{date}] [{level}] [{filename}] [{func_name}] [{lineno}] {msg}\".format(\n",
    "        date = record.time,                              # 日志时间\n",
    "        level = record.level_name,                       # 日志等级\n",
    "        filename = os.path.split(record.filename)[-1],   # 文件名\n",
    "        func_name = record.func_name,                    # 函数名\n",
    "        lineno = record.lineno,                          # 行号\n",
    "        msg = record.message                             # 日志内容\n",
    "    )\n",
    "    return log\n",
    "\n",
    "# 日志存放路径\n",
    "LOG_DIR = os.path.join(\"Log\")\n",
    "if not os.path.exists(LOG_DIR):\n",
    "    os.makedirs(LOG_DIR)\n",
    "# 日志打印到屏幕\n",
    "log_std = ColorizedStderrHandler(bubble=True)\n",
    "log_std.formatter = log_type\n",
    "# 日志打印到文件\n",
    "log_file = TimedRotatingFileHandler(\n",
    "    os.path.join(LOG_DIR, '%s.log' % 'log'),date_format='%Y-%m-%d', bubble=True, encoding='utf-8')\n",
    "log_file.formatter = log_type\n",
    "\n",
    "# 脚本日志\n",
    "run_log = Logger(\"script_log\")\n",
    "def init_logger():\n",
    "    logbook.set_datetime_format(\"local\")\n",
    "    run_log.handlers = []\n",
    "    run_log.handlers.append(log_file)\n",
    "    run_log.handlers.append(log_std)\n",
    "\n",
    "# 实例化，默认调用\n",
    "logger = init_logger()"
   ]
  },
  {
   "cell_type": "code",
   "execution_count": 24,
   "metadata": {},
   "outputs": [
    {
     "data": {
      "text/plain": [
       "{'a': 1, 'b': 2, 'c': 1, 'd': 2}"
      ]
     },
     "execution_count": 24,
     "metadata": {},
     "output_type": "execute_result"
    }
   ],
   "source": [
    "a1= {'a':1,'b':2}\n",
    "a2= {'c':1,'d':2}\n",
    "{**a1, **a2}"
   ]
  },
  {
   "cell_type": "code",
   "execution_count": 25,
   "metadata": {},
   "outputs": [
    {
     "data": {
      "text/plain": [
       "{'backtest_mode': ('backtest_mode', 'fine'),\n",
       " 'trading_records_path': ('trading_records_path', 'client'),\n",
       " 'start_date': ('start_date',),\n",
       " 'end_date': ('end_date',)}"
      ]
     },
     "execution_count": 25,
     "metadata": {},
     "output_type": "execute_result"
    }
   ],
   "source": [
    "dict(\n",
    "            # Basic backtesting info\n",
    "            # trading_records = ('trading_records', False),\n",
    "            # trading_records_to_ftp = ('trading_records_to_ftp', True),\n",
    "            # quick=('quick', False),\n",
    "            backtest_mode=('backtest_mode', 'fine'),\n",
    "            trading_records_path=('trading_records_path', 'client'),\n",
    "            start_date=('start_date',),\n",
    "            end_date=('end_date',))"
   ]
  },
  {
   "cell_type": "code",
   "execution_count": null,
   "metadata": {},
   "outputs": [],
   "source": []
  }
 ],
 "metadata": {
  "kernelspec": {
   "display_name": "Python 3",
   "language": "python",
   "name": "python3"
  },
  "language_info": {
   "codemirror_mode": {
    "name": "ipython",
    "version": 3
   },
   "file_extension": ".py",
   "mimetype": "text/x-python",
   "name": "python",
   "nbconvert_exporter": "python",
   "pygments_lexer": "ipython3",
   "version": "3.7.6"
  }
 },
 "nbformat": 4,
 "nbformat_minor": 4
}
